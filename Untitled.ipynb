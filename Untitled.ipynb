{
 "cells": [
  {
   "cell_type": "markdown",
   "id": "37c20fcc",
   "metadata": {},
   "source": [
    "Pour le projet nous avons décidé de partir sur une IA qui peut prédire qu'elle équipe va gagner lors d'une confrontation pour cela nous avons été chercher sur kaggle une bdd pour avoir les data et nous les avons retravaillés pour être sûr que c'est donné seront lisible par IA"
   ]
  },
  {
   "cell_type": "code",
   "execution_count": null,
   "id": "cf2bea4c",
   "metadata": {
    "ExecuteTime": {
     "start_time": "2023-04-07T12:37:13.794619Z",
     "end_time": "2023-04-07T12:37:16.058107Z"
    },
    "scrolled": true,
    "pycharm": {
     "is_executing": true
    }
   },
   "outputs": [
    {
     "name": "stdout",
     "output_type": "stream",
     "text": [
      "Requirement already satisfied: scikit-learn in /opt/homebrew/Caskroom/miniconda/base/lib/python3.10/site-packages (1.2.2)\r\n",
      "Requirement already satisfied: numpy>=1.17.3 in /opt/homebrew/Caskroom/miniconda/base/lib/python3.10/site-packages (from scikit-learn) (1.24.2)\r\n",
      "Requirement already satisfied: threadpoolctl>=2.0.0 in /opt/homebrew/Caskroom/miniconda/base/lib/python3.10/site-packages (from scikit-learn) (3.1.0)\r\n",
      "Requirement already satisfied: joblib>=1.1.1 in /opt/homebrew/Caskroom/miniconda/base/lib/python3.10/site-packages (from scikit-learn) (1.2.0)\r\n",
      "Requirement already satisfied: scipy>=1.3.2 in /opt/homebrew/Caskroom/miniconda/base/lib/python3.10/site-packages (from scikit-learn) (1.10.1)\r\n"
     ]
    }
   ],
   "source": [
    "import pandas as pd\n",
    "import numpy as np\n",
    "!pip install scikit-learn\n",
    "from sklearn.preprocessing import OneHotEncoder"
   ]
  },
  {
   "cell_type": "code",
   "execution_count": null,
   "id": "97b4ef23",
   "metadata": {
    "ExecuteTime": {
     "start_time": "2023-04-07T12:37:16.059437Z",
     "end_time": "2023-04-07T12:37:16.060974Z"
    },
    "pycharm": {
     "is_executing": true
    }
   },
   "outputs": [],
   "source": [
    "url = (\"/Users/florian/Documents/www/ProjetPython/results.csv\")"
   ]
  },
  {
   "cell_type": "code",
   "execution_count": null,
   "id": "cc4e872f",
   "metadata": {
    "ExecuteTime": {
     "start_time": "2023-04-07T12:37:16.063168Z",
     "end_time": "2023-04-07T12:37:16.065008Z"
    },
    "pycharm": {
     "is_executing": true
    }
   },
   "outputs": [],
   "source": [
    "url"
   ]
  },
  {
   "cell_type": "code",
   "execution_count": null,
   "id": "01b989f0",
   "metadata": {
    "ExecuteTime": {
     "start_time": "2023-04-07T12:34:28.754895Z",
     "end_time": "2023-04-07T12:34:29.596005Z"
    },
    "pycharm": {
     "is_executing": true
    }
   },
   "outputs": [],
   "source": [
    "data = pd.read_csv(url)"
   ]
  },
  {
   "cell_type": "markdown",
   "id": "7c5edfef",
   "metadata": {},
   "source": [
    "Voici le tableau excel avex tout les données que nous avons pus recupéré. On peux y retrouver plusieurs informations comme la date des confrontations ainsi que les nom d'équipe qui se sont confronté avec leur score dans quel pays il sont jouer ainsi que la ville si il etait dans une situation de neutralité c'est a dire si il etait avantage ou non en fonctione de si il jouer dans leur pays et les differents tournois"
   ]
  },
  {
   "cell_type": "code",
   "execution_count": null,
   "id": "b1f2bfbe",
   "metadata": {
    "ExecuteTime": {
     "start_time": "2023-04-07T12:35:16.640221Z",
     "end_time": "2023-04-07T12:35:16.651461Z"
    },
    "scrolled": false,
    "pycharm": {
     "is_executing": true
    }
   },
   "outputs": [],
   "source": [
    "data"
   ]
  },
  {
   "cell_type": "code",
   "execution_count": null,
   "id": "009042eb",
   "metadata": {
    "ExecuteTime": {
     "start_time": "2023-04-07T12:35:17.023432Z",
     "end_time": "2023-04-07T12:35:17.284068Z"
    },
    "pycharm": {
     "is_executing": true
    }
   },
   "outputs": [],
   "source": [
    "def determine_winner(row):\n",
    "    if row[\"home_score\"] > row[\"away_score\"]:\n",
    "        return 0\n",
    "    elif row[\"home_score\"] < row[\"away_score\"]:\n",
    "        return 1\n",
    "    else:\n",
    "        return 2\n",
    "\n",
    "data[\"win\"] = data.apply(determine_winner, axis=1)"
   ]
  },
  {
   "cell_type": "markdown",
   "id": "943b3dff",
   "metadata": {},
   "source": [
    "- 0 = home_score win\n",
    "- 1 = away_score win\n",
    "- 2 = match nul\n",
    "\n",
    "Ici j'ai rajouter une colonnes win pour savoir qui a gagné entre les 2 equipes"
   ]
  },
  {
   "cell_type": "code",
   "execution_count": null,
   "id": "2b1b7dd1",
   "metadata": {
    "ExecuteTime": {
     "start_time": "2023-04-07T12:35:18.237592Z",
     "end_time": "2023-04-07T12:35:18.268625Z"
    },
    "scrolled": false,
    "pycharm": {
     "is_executing": true
    }
   },
   "outputs": [],
   "source": [
    "data"
   ]
  },
  {
   "cell_type": "markdown",
   "id": "cf03adcc",
   "metadata": {},
   "source": [
    "Nous alons maintenant transformer les date en 3 colonnes pour pouvoir avoir la date le jour et le mois"
   ]
  },
  {
   "cell_type": "code",
   "execution_count": 7,
   "id": "659a0a1e",
   "metadata": {
    "ExecuteTime": {
     "start_time": "2023-04-07T12:34:29.098616Z",
     "end_time": "2023-04-07T12:34:29.937876Z"
    }
   },
   "outputs": [
    {
     "ename": "NameError",
     "evalue": "name 'data' is not defined",
     "output_type": "error",
     "traceback": [
      "\u001B[0;31m---------------------------------------------------------------------------\u001B[0m",
      "\u001B[0;31mNameError\u001B[0m                                 Traceback (most recent call last)",
      "Cell \u001B[0;32mIn[7], line 1\u001B[0m\n\u001B[0;32m----> 1\u001B[0m date_parts \u001B[38;5;241m=\u001B[39m \u001B[43mdata\u001B[49m[\u001B[38;5;124m\"\u001B[39m\u001B[38;5;124mdate\u001B[39m\u001B[38;5;124m\"\u001B[39m]\u001B[38;5;241m.\u001B[39mstr\u001B[38;5;241m.\u001B[39msplit(\u001B[38;5;124m\"\u001B[39m\u001B[38;5;124m-\u001B[39m\u001B[38;5;124m\"\u001B[39m, expand\u001B[38;5;241m=\u001B[39m\u001B[38;5;28;01mTrue\u001B[39;00m)\n\u001B[1;32m      2\u001B[0m data[\u001B[38;5;124m\"\u001B[39m\u001B[38;5;124myear\u001B[39m\u001B[38;5;124m\"\u001B[39m] \u001B[38;5;241m=\u001B[39m date_parts[\u001B[38;5;241m0\u001B[39m]\u001B[38;5;241m.\u001B[39mastype(\u001B[38;5;28mint\u001B[39m)\n\u001B[1;32m      3\u001B[0m data[\u001B[38;5;124m\"\u001B[39m\u001B[38;5;124mmonth\u001B[39m\u001B[38;5;124m\"\u001B[39m] \u001B[38;5;241m=\u001B[39m date_parts[\u001B[38;5;241m1\u001B[39m]\u001B[38;5;241m.\u001B[39mastype(\u001B[38;5;28mint\u001B[39m)\n",
      "\u001B[0;31mNameError\u001B[0m: name 'data' is not defined"
     ]
    }
   ],
   "source": [
    "date_parts = data[\"date\"].str.split(\"-\", expand=True)\n",
    "data[\"year\"] = date_parts[0].astype(int)\n",
    "data[\"month\"] = date_parts[1].astype(int)\n",
    "data[\"day\"] = date_parts[2].astype(int)\n",
    "\n",
    "data = data.drop(\"date\", axis=1)"
   ]
  },
  {
   "cell_type": "code",
   "execution_count": null,
   "id": "79bbffba",
   "metadata": {
    "ExecuteTime": {
     "start_time": "2023-04-07T12:35:20.079607Z",
     "end_time": "2023-04-07T12:35:20.096013Z"
    }
   },
   "outputs": [],
   "source": [
    "data"
   ]
  },
  {
   "cell_type": "markdown",
   "id": "b2bb31a3",
   "metadata": {},
   "source": [
    "- Colonne neutral indiquant si le match a été joué dans un lieu neutre, je l'ai transformer en binaire pour que IA puisse la comprendre"
   ]
  },
  {
   "cell_type": "code",
   "execution_count": null,
   "id": "7331f95a",
   "metadata": {
    "ExecuteTime": {
     "start_time": "2023-04-07T12:34:29.099006Z",
     "end_time": "2023-04-07T12:34:29.948871Z"
    }
   },
   "outputs": [],
   "source": [
    "data[\"neutral\"] = data[\"neutral\"].astype(int)"
   ]
  },
  {
   "cell_type": "code",
   "execution_count": null,
   "id": "47504626",
   "metadata": {
    "ExecuteTime": {
     "start_time": "2023-04-07T12:34:29.108057Z",
     "end_time": "2023-04-07T12:34:29.956786Z"
    }
   },
   "outputs": [],
   "source": [
    "data"
   ]
  },
  {
   "cell_type": "code",
   "execution_count": null,
   "id": "f38aa259",
   "metadata": {
    "ExecuteTime": {
     "start_time": "2023-04-07T12:34:29.119738Z",
     "end_time": "2023-04-07T12:34:29.980269Z"
    }
   },
   "outputs": [],
   "source": [
    "nb_total_tournaments = data[\"tournament\"].nunique()"
   ]
  },
  {
   "cell_type": "code",
   "execution_count": null,
   "id": "e5e726a4",
   "metadata": {
    "ExecuteTime": {
     "start_time": "2023-04-07T12:34:29.120316Z",
     "end_time": "2023-04-07T12:34:30.021784Z"
    }
   },
   "outputs": [],
   "source": [
    "nb_total_tournaments"
   ]
  },
  {
   "cell_type": "code",
   "execution_count": null,
   "id": "6f703121",
   "metadata": {
    "ExecuteTime": {
     "start_time": "2023-04-07T12:34:29.147715Z",
     "end_time": "2023-04-07T12:34:30.026911Z"
    }
   },
   "outputs": [],
   "source": [
    "tournaments_count = data[\"tournament\"].value_counts()"
   ]
  },
  {
   "cell_type": "code",
   "execution_count": null,
   "id": "3721147d",
   "metadata": {
    "ExecuteTime": {
     "start_time": "2023-04-07T12:34:29.176961Z",
     "end_time": "2023-04-07T12:34:30.032058Z"
    }
   },
   "outputs": [],
   "source": [
    "tournaments_count"
   ]
  },
  {
   "cell_type": "code",
   "execution_count": null,
   "id": "c0d2d701",
   "metadata": {
    "ExecuteTime": {
     "start_time": "2023-04-07T12:34:29.182628Z",
     "end_time": "2023-04-07T12:34:30.032333Z"
    },
    "scrolled": true
   },
   "outputs": [],
   "source": [
    "def regrouper_tournois(data):\n",
    "    # Comptage du nombre d'occurrences de chaque tournoi\n",
    "    tournaments_count = data[\"tournament\"].value_counts()\n",
    "\n",
    "    # Création d'une liste avec les noms des tournois présents moins de 20 fois\n",
    "    tournaments_to_group = tournaments_count[tournaments_count < 30].index.tolist()\n",
    "\n",
    "    # Remplacement des noms des tournois par \"Autre\" s'ils sont présents dans la liste\n",
    "    data.loc[data[\"tournament\"].isin(tournaments_to_group), \"tournament\"] = \"Autre\"\n",
    "\n",
    "    return data\n",
    "\n",
    "regrouped_tournaments = regrouper_tournois(data)\n",
    "tournaments_count = data[\"tournament\"].value_counts()\n",
    "tournaments_count "
   ]
  },
  {
   "cell_type": "code",
   "execution_count": null,
   "id": "20ccab75",
   "metadata": {
    "ExecuteTime": {
     "start_time": "2023-04-07T12:34:29.202317Z",
     "end_time": "2023-04-07T12:34:30.047087Z"
    }
   },
   "outputs": [],
   "source": [
    "data"
   ]
  },
  {
   "cell_type": "markdown",
   "id": "e6f4207b",
   "metadata": {},
   "source": [
    "- O = equipe qui n'ons pas jouer\n",
    "- 1 = equipe qui joue (home)\n",
    "- -1 = equipe qui joue (away)"
   ]
  },
  {
   "cell_type": "code",
   "execution_count": null,
   "id": "cf54eabd",
   "metadata": {
    "ExecuteTime": {
     "start_time": "2023-04-07T12:35:09.362247Z",
     "end_time": "2023-04-07T12:35:09.592087Z"
    }
   },
   "outputs": [],
   "source": [
    "# Instanciation de la classe OneHotEncoder pour la colonne \"home_team\"\n",
    "home_team_encoder = OneHotEncoder()\n",
    "\n",
    "# Encodage de la colonne \"home_team\" en variables binaires\n",
    "encoded_home_team = home_team_encoder.fit_transform(data[[\"home_team\"]]).toarray()\n",
    "\n",
    "# Instanciation de la classe OneHotEncoder pour la colonne \"away_team\"\n",
    "away_team_encoder = OneHotEncoder()\n",
    "\n",
    "# Encodage de la colonne \"away_team\" en variables binaires, avec l'option \"-1\" pour les valeurs manquantes\n",
    "encoded_away_team = away_team_encoder.fit_transform(data[[\"away_team\"]].fillna('-1')).toarray() * 1\n",
    "\n",
    "# Création des DataFrames encodés avec le DataFrame original\n",
    "encoded_home_team_df = pd.DataFrame(\n",
    "    encoded_home_team,\n",
    "    columns=home_team_encoder.get_feature_names_out(['home_team'])\n",
    ")\n",
    "encoded_away_team_df = pd.DataFrame(\n",
    "    encoded_away_team,\n",
    "    columns=away_team_encoder.get_feature_names_out(['away_team'])\n",
    ")\n",
    "#On remplace dans le nom des colonnes home_team et away_team par le nom de l'équipe\n",
    "encoded_home_team_df.columns = encoded_home_team_df.columns.str.replace('home_team_', '')\n",
    "encoded_away_team_df.columns = encoded_away_team_df.columns.str.replace('away_team_', '')\n",
    "\n",
    "#On combine les 2 dataframes pour avoir une seule dataframe avec \n",
    "#On fait en sorte lors de la fusion de garder en priorité les valeurs 1 (home) et -1 (away), tout le reste est remplacé par 0\n",
    "combined_encoded_teams_df = pd.concat([encoded_home_team_df, encoded_away_team_df], axis=1)\n",
    "\n",
    "data_encoded = pd.concat([data, encoded_home_team_df, encoded_away_team_df], axis=1)"
   ]
  },
  {
   "cell_type": "code",
   "execution_count": null,
   "id": "0f8dd2a7",
   "metadata": {
    "ExecuteTime": {
     "start_time": "2023-04-07T12:35:10.195401Z",
     "end_time": "2023-04-07T12:35:10.225339Z"
    },
    "scrolled": false
   },
   "outputs": [],
   "source": [
    "combined_encoded_teams_df"
   ]
  },
  {
   "cell_type": "code",
   "execution_count": null,
   "id": "781e483d",
   "metadata": {
    "ExecuteTime": {
     "start_time": "2023-04-07T12:34:29.513197Z",
     "end_time": "2023-04-07T12:34:30.300234Z"
    }
   },
   "outputs": [],
   "source": []
  },
  {
   "cell_type": "code",
   "execution_count": null,
   "id": "31e08c22",
   "metadata": {
    "ExecuteTime": {
     "start_time": "2023-04-07T12:34:29.515144Z",
     "end_time": "2023-04-07T12:34:30.325532Z"
    }
   },
   "outputs": [],
   "source": []
  }
 ],
 "metadata": {
  "kernelspec": {
   "display_name": "Python 3 (ipykernel)",
   "language": "python",
   "name": "python3"
  },
  "language_info": {
   "codemirror_mode": {
    "name": "ipython",
    "version": 3
   },
   "file_extension": ".py",
   "mimetype": "text/x-python",
   "name": "python",
   "nbconvert_exporter": "python",
   "pygments_lexer": "ipython3",
   "version": "3.10.9"
  }
 },
 "nbformat": 4,
 "nbformat_minor": 5
}
